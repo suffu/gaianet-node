{
  "nbformat": 4,
  "nbformat_minor": 0,
  "metadata": {
    "colab": {
      "provenance": [],
      "authorship_tag": "ABX9TyOXYTRqCsRMZN7NxUyigYc/",
      "include_colab_link": true
    },
    "kernelspec": {
      "name": "python3",
      "display_name": "Python 3"
    },
    "language_info": {
      "name": "python"
    }
  },
  "cells": [
    {
      "cell_type": "markdown",
      "metadata": {
        "id": "view-in-github",
        "colab_type": "text"
      },
      "source": [
        "<a href=\"https://colab.research.google.com/github/suffu/gaianet-node/blob/main/Hand_Written_digit_classification.ipynb\" target=\"_parent\"><img src=\"https://colab.research.google.com/assets/colab-badge.svg\" alt=\"Open In Colab\"/></a>"
      ]
    },
    {
      "cell_type": "markdown",
      "source": [
        "# Hand Written Digit Prediction - Classification Analysis"
      ],
      "metadata": {
        "id": "E_J0hFZebaE4"
      }
    },
    {
      "cell_type": "markdown",
      "source": [
        "The digits dataset consists of 8x8 pixel image of digits. the images attributes of the dataset stores 8x8 arrays of grayscale values for each image. We will uyse these arrays to visyualize the first 4 images. the target attribute of the dataset stores the digit each image represents"
      ],
      "metadata": {
        "id": "IRUIQHRpZFqP"
      }
    },
    {
      "cell_type": "markdown",
      "source": [
        "# Import Library"
      ],
      "metadata": {
        "id": "OwNNRCZtbRve"
      }
    },
    {
      "cell_type": "code",
      "execution_count": 1,
      "metadata": {
        "id": "E5ltSqzzYsMs"
      },
      "outputs": [],
      "source": [
        "import pandas as pd"
      ]
    },
    {
      "cell_type": "code",
      "source": [
        "import numpy as np"
      ],
      "metadata": {
        "id": "z1YKwl4zaL5F"
      },
      "execution_count": 2,
      "outputs": []
    },
    {
      "cell_type": "code",
      "source": [
        "import matplotlib.pyplot as plt"
      ],
      "metadata": {
        "id": "V26asWhxaPn6"
      },
      "execution_count": 3,
      "outputs": []
    },
    {
      "cell_type": "markdown",
      "source": [
        "# Import Data"
      ],
      "metadata": {
        "id": "zOq6ftYzbfPu"
      }
    },
    {
      "cell_type": "code",
      "source": [
        "from sklearn.datasets import load_digits"
      ],
      "metadata": {
        "id": "H9kmvsS4adPB"
      },
      "execution_count": 4,
      "outputs": []
    },
    {
      "cell_type": "code",
      "source": [
        "df = load_digits()"
      ],
      "metadata": {
        "id": "pqWy6p9Rap3D"
      },
      "execution_count": 5,
      "outputs": []
    },
    {
      "cell_type": "code",
      "source": [
        "_, axes = plt.subplots(nrows=1, ncols=4, figsize=(10, 3))\n",
        "for ax, image, label in zip(axes, df.images, df.target):\n",
        "  ax.set_axis_off()\n",
        "  ax.imshow(image, cmap=plt.cm.gray_r, interpolation='nearest')\n",
        "  ax.set_title('Training: %i' % label)"
      ],
      "metadata": {
        "colab": {
          "base_uri": "https://localhost:8080/",
          "height": 187
        },
        "id": "vNjs_WUMaynn",
        "outputId": "089fbc43-68cb-4b3a-b1e7-8f22f5f88bda"
      },
      "execution_count": 7,
      "outputs": [
        {
          "output_type": "display_data",
          "data": {
            "text/plain": [
              "<Figure size 1000x300 with 4 Axes>"
            ],
            "image/png": "[encoded data removed]"
          },
          "metadata": {}
        }
      ]
    },
    {
      "cell_type": "markdown",
      "source": [
        "# Data Preprocessing"
      ],
      "metadata": {
        "id": "suu8nuHDbtV8"
      }
    },
    {
      "cell_type": "markdown",
      "source": [
        "Flatten Image"
      ],
      "metadata": {
        "id": "jmf6hc5DbzPs"
      }
    },
    {
      "cell_type": "markdown",
      "source": [
        "\n",
        "\n",
        "\n",
        "![color block.jpeg](data:image/jpeg;base64,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)\n",
        "\n"
      ],
      "metadata": {
        "id": "3Zs0A8j0cqzn"
      }
    },
    {
      "cell_type": "code",
      "source": [
        "df.images.shape"
      ],
      "metadata": {
        "colab": {
          "base_uri": "https://localhost:8080/"
        },
        "id": "4mu6qBpLdwix",
        "outputId": "bc8f0978-3750-486c-ad28-6642c4076a66"
      },
      "execution_count": 8,
      "outputs": [
        {
          "output_type": "execute_result",
          "data": {
            "text/plain": [
              "(1797, 8, 8)"
            ]
          },
          "metadata": {},
          "execution_count": 8
        }
      ]
    },
    {
      "cell_type": "code",
      "source": [
        "df.images[0]"
      ],
      "metadata": {
        "colab": {
          "base_uri": "https://localhost:8080/"
        },
        "id": "rPtMM7Sud1aZ",
        "outputId": "0da855d1-3074-4df0-f65f-8c9f296f9345"
      },
      "execution_count": 10,
      "outputs": [
        {
          "output_type": "execute_result",
          "data": {
            "text/plain": [
              "array([[ 0.,  0.,  5., 13.,  9.,  1.,  0.,  0.],\n",
              "       [ 0.,  0., 13., 15., 10., 15.,  5.,  0.],\n",
              "       [ 0.,  3., 15.,  2.,  0., 11.,  8.,  0.],\n",
              "       [ 0.,  4., 12.,  0.,  0.,  8.,  8.,  0.],\n",
              "       [ 0.,  5.,  8.,  0.,  0.,  9.,  8.,  0.],\n",
              "       [ 0.,  4., 11.,  0.,  1., 12.,  7.,  0.],\n",
              "       [ 0.,  2., 14.,  5., 10., 12.,  0.,  0.],\n",
              "       [ 0.,  0.,  6., 13., 10.,  0.,  0.,  0.]])"
            ]
          },
          "metadata": {},
          "execution_count": 10
        }
      ]
    },
    {
      "cell_type": "code",
      "source": [
        "df.images[0].shape"
      ],
      "metadata": {
        "colab": {
          "base_uri": "https://localhost:8080/"
        },
        "id": "YA_ikST2d-cQ",
        "outputId": "aaa047ce-5d32-42d0-8807-383290cdaf53"
      },
      "execution_count": 11,
      "outputs": [
        {
          "output_type": "execute_result",
          "data": {
            "text/plain": [
              "(8, 8)"
            ]
          },
          "metadata": {},
          "execution_count": 11
        }
      ]
    },
    {
      "cell_type": "code",
      "source": [
        "len(df.images)"
      ],
      "metadata": {
        "colab": {
          "base_uri": "https://localhost:8080/"
        },
        "id": "eoVuBRSNeJ6B",
        "outputId": "d2a6d81b-7f54-4b69-f281-37a3899ae1d0"
      },
      "execution_count": 12,
      "outputs": [
        {
          "output_type": "execute_result",
          "data": {
            "text/plain": [
              "1797"
            ]
          },
          "metadata": {},
          "execution_count": 12
        }
      ]
    },
    {
      "cell_type": "code",
      "source": [
        "n_samples = len(df.images)\n",
        "data = df.images.reshape((n_samples, -1))"
      ],
      "metadata": {
        "id": "wXbwi0aieO4m"
      },
      "execution_count": 13,
      "outputs": []
    },
    {
      "cell_type": "code",
      "source": [
        "data[0]"
      ],
      "metadata": {
        "colab": {
          "base_uri": "https://localhost:8080/"
        },
        "id": "lR5BF5GSeWdH",
        "outputId": "548be551-e795-4ff9-ebeb-2f5aad33fb14"
      },
      "execution_count": 14,
      "outputs": [
        {
          "output_type": "execute_result",
          "data": {
            "text/plain": [
              "array([ 0.,  0.,  5., 13.,  9.,  1.,  0.,  0.,  0.,  0., 13., 15., 10.,\n",
              "       15.,  5.,  0.,  0.,  3., 15.,  2.,  0., 11.,  8.,  0.,  0.,  4.,\n",
              "       12.,  0.,  0.,  8.,  8.,  0.,  0.,  5.,  8.,  0.,  0.,  9.,  8.,\n",
              "        0.,  0.,  4., 11.,  0.,  1., 12.,  7.,  0.,  0.,  2., 14.,  5.,\n",
              "       10., 12.,  0.,  0.,  0.,  0.,  6., 13., 10.,  0.,  0.,  0.])"
            ]
          },
          "metadata": {},
          "execution_count": 14
        }
      ]
    },
    {
      "cell_type": "code",
      "source": [
        "data[0].shape"
      ],
      "metadata": {
        "colab": {
          "base_uri": "https://localhost:8080/"
        },
        "id": "xM1NyTRMeaAD",
        "outputId": "22538c37-565c-4541-ef46-337ba5131d87"
      },
      "execution_count": 15,
      "outputs": [
        {
          "output_type": "execute_result",
          "data": {
            "text/plain": [
              "(64,)"
            ]
          },
          "metadata": {},
          "execution_count": 15
        }
      ]
    },
    {
      "cell_type": "code",
      "source": [
        "data.shape"
      ],
      "metadata": {
        "colab": {
          "base_uri": "https://localhost:8080/"
        },
        "id": "VzaTokAnefoR",
        "outputId": "2a8c6e32-eed9-45e2-a134-0b4a3792ff01"
      },
      "execution_count": 16,
      "outputs": [
        {
          "output_type": "execute_result",
          "data": {
            "text/plain": [
              "(1797, 64)"
            ]
          },
          "metadata": {},
          "execution_count": 16
        }
      ]
    },
    {
      "cell_type": "markdown",
      "source": [
        "# Scaling Image Data"
      ],
      "metadata": {
        "id": "wJE36Nxkej3a"
      }
    },
    {
      "cell_type": "code",
      "source": [
        "data.min()"
      ],
      "metadata": {
        "colab": {
          "base_uri": "https://localhost:8080/"
        },
        "id": "aQma9XQ8en9r",
        "outputId": "41058f21-5cb9-4e67-87af-eab34bfc6ef3"
      },
      "execution_count": 17,
      "outputs": [
        {
          "output_type": "execute_result",
          "data": {
            "text/plain": [
              "0.0"
            ]
          },
          "metadata": {},
          "execution_count": 17
        }
      ]
    },
    {
      "cell_type": "code",
      "source": [
        "data.max()"
      ],
      "metadata": {
        "colab": {
          "base_uri": "https://localhost:8080/"
        },
        "id": "w6pRr6onerbm",
        "outputId": "16bf868a-577b-498b-8a5b-e92ff1e4f5e2"
      },
      "execution_count": 18,
      "outputs": [
        {
          "output_type": "execute_result",
          "data": {
            "text/plain": [
              "16.0"
            ]
          },
          "metadata": {},
          "execution_count": 18
        }
      ]
    },
    {
      "cell_type": "code",
      "source": [
        "data = data/16"
      ],
      "metadata": {
        "id": "2Rx8tiipevPC"
      },
      "execution_count": 19,
      "outputs": []
    },
    {
      "cell_type": "code",
      "source": [
        "data.min()"
      ],
      "metadata": {
        "colab": {
          "base_uri": "https://localhost:8080/"
        },
        "id": "0mFl3oEIeyt_",
        "outputId": "837dfecc-69e9-426b-d804-3a5d56450f2d"
      },
      "execution_count": 20,
      "outputs": [
        {
          "output_type": "execute_result",
          "data": {
            "text/plain": [
              "0.0"
            ]
          },
          "metadata": {},
          "execution_count": 20
        }
      ]
    },
    {
      "cell_type": "code",
      "source": [
        "data.max()"
      ],
      "metadata": {
        "colab": {
          "base_uri": "https://localhost:8080/"
        },
        "id": "K6m1ZFure1-0",
        "outputId": "4de6b5dd-ab4e-4b41-95c4-b1d25558f7bd"
      },
      "execution_count": 22,
      "outputs": [
        {
          "output_type": "execute_result",
          "data": {
            "text/plain": [
              "1.0"
            ]
          },
          "metadata": {},
          "execution_count": 22
        }
      ]
    },
    {
      "cell_type": "code",
      "source": [
        "data[0]"
      ],
      "metadata": {
        "colab": {
          "base_uri": "https://localhost:8080/"
        },
        "id": "yNy-AUOUe7Xp",
        "outputId": "02519abb-2471-46a9-bbdb-5956d18aac56"
      },
      "execution_count": 23,
      "outputs": [
        {
          "output_type": "execute_result",
          "data": {
            "text/plain": [
              "array([0.    , 0.    , 0.3125, 0.8125, 0.5625, 0.0625, 0.    , 0.    ,\n",
              "       0.    , 0.    , 0.8125, 0.9375, 0.625 , 0.9375, 0.3125, 0.    ,\n",
              "       0.    , 0.1875, 0.9375, 0.125 , 0.    , 0.6875, 0.5   , 0.    ,\n",
              "       0.    , 0.25  , 0.75  , 0.    , 0.    , 0.5   , 0.5   , 0.    ,\n",
              "       0.    , 0.3125, 0.5   , 0.    , 0.    , 0.5625, 0.5   , 0.    ,\n",
              "       0.    , 0.25  , 0.6875, 0.    , 0.0625, 0.75  , 0.4375, 0.    ,\n",
              "       0.    , 0.125 , 0.875 , 0.3125, 0.625 , 0.75  , 0.    , 0.    ,\n",
              "       0.    , 0.    , 0.375 , 0.8125, 0.625 , 0.    , 0.    , 0.    ])"
            ]
          },
          "metadata": {},
          "execution_count": 23
        }
      ]
    },
    {
      "cell_type": "markdown",
      "source": [
        "# Train Test Split Data"
      ],
      "metadata": {
        "id": "AViUlVq1fAHp"
      }
    },
    {
      "cell_type": "code",
      "source": [
        "from sklearn.model_selection import train_test_split"
      ],
      "metadata": {
        "id": "-rMo70_IfF-G"
      },
      "execution_count": 24,
      "outputs": []
    },
    {
      "cell_type": "code",
      "source": [
        "x_train, x_test, y_train, y_test = train_test_split(data, df.target, test_size=0.3)"
      ],
      "metadata": {
        "id": "spi3KVgwpLzO"
      },
      "execution_count": 25,
      "outputs": []
    },
    {
      "cell_type": "code",
      "source": [
        "x_train.shape, x_test.shape, y_train.shape, y_test.shape"
      ],
      "metadata": {
        "colab": {
          "base_uri": "https://localhost:8080/"
        },
        "id": "uCGBIFuLpdVN",
        "outputId": "e8008aa7-1217-4b9d-cebf-7b99c637a132"
      },
      "execution_count": 26,
      "outputs": [
        {
          "output_type": "execute_result",
          "data": {
            "text/plain": [
              "((1257, 64), (540, 64), (1257,), (540,))"
            ]
          },
          "metadata": {},
          "execution_count": 26
        }
      ]
    },
    {
      "cell_type": "markdown",
      "source": [
        "# Random Forest Model"
      ],
      "metadata": {
        "id": "9vFXfobWpp_3"
      }
    },
    {
      "cell_type": "code",
      "source": [
        "from sklearn.ensemble import RandomForestClassifier"
      ],
      "metadata": {
        "id": "k1UKYELup2sJ"
      },
      "execution_count": 27,
      "outputs": []
    },
    {
      "cell_type": "code",
      "source": [
        "rf = RandomForestClassifier()"
      ],
      "metadata": {
        "id": "tNTDLNu_p5FC"
      },
      "execution_count": 28,
      "outputs": []
    },
    {
      "cell_type": "code",
      "source": [
        "rf.fit(x_train, y_train)"
      ],
      "metadata": {
        "colab": {
          "base_uri": "https://localhost:8080/",
          "height": 51
        },
        "id": "FWZLLiaip7lt",
        "outputId": "0ca29627-e2a8-4757-df28-97e014169477"
      },
      "execution_count": 29,
      "outputs": [
        {
          "output_type": "execute_result",
          "data": {
            "text/plain": [
              "RandomForestClassifier()"
            ],
            "text/html": [
              "<style>#sk-container-id-1 {color: black;}#sk-container-id-1 pre{padding: 0;}#sk-container-id-1 div.sk-toggleable {background-color: white;}#sk-container-id-1 label.sk-toggleable__label {cursor: pointer;display: block;width: 100%;margin-bottom: 0;padding: 0.3em;box-sizing: border-box;text-align: center;}#sk-container-id-1 label.sk-toggleable__label-arrow:before {content: \"▸\";float: left;margin-right: 0.25em;color: #696969;}#sk-container-id-1 label.sk-toggleable__label-arrow:hover:before {color: black;}#sk-container-id-1 div.sk-estimator:hover label.sk-toggleable__label-arrow:before {color: black;}#sk-container-id-1 div.sk-toggleable__content {max-height: 0;max-width: 0;overflow: hidden;text-align: left;background-color: #f0f8ff;}#sk-container-id-1 div.sk-toggleable__content pre {margin: 0.2em;color: black;border-radius: 0.25em;background-color: #f0f8ff;}#sk-container-id-1 input.sk-toggleable__control:checked~div.sk-toggleable__content {max-height: 200px;max-width: 100%;overflow: auto;}#sk-container-id-1 input.sk-toggleable__control:checked~label.sk-toggleable__label-arrow:before {content: \"▾\";}#sk-container-id-1 div.sk-estimator input.sk-toggleable__control:checked~label.sk-toggleable__label {background-color: #d4ebff;}#sk-container-id-1 div.sk-label input.sk-toggleable__control:checked~label.sk-toggleable__label {background-color: #d4ebff;}#sk-container-id-1 input.sk-hidden--visually {border: 0;clip: rect(1px 1px 1px 1px);clip: rect(1px, 1px, 1px, 1px);height: 1px;margin: -1px;overflow: hidden;padding: 0;position: absolute;width: 1px;}#sk-container-id-1 div.sk-estimator {font-family: monospace;background-color: #f0f8ff;border: 1px dotted black;border-radius: 0.25em;box-sizing: border-box;margin-bottom: 0.5em;}#sk-container-id-1 div.sk-estimator:hover {background-color: #d4ebff;}#sk-container-id-1 div.sk-parallel-item::after {content: \"\";width: 100%;border-bottom: 1px solid gray;flex-grow: 1;}#sk-container-id-1 div.sk-label:hover label.sk-toggleable__label {background-color: #d4ebff;}#sk-container-id-1 div.sk-serial::before {content: \"\";position: absolute;border-left: 1px solid gray;box-sizing: border-box;top: 0;bottom: 0;left: 50%;z-index: 0;}#sk-container-id-1 div.sk-serial {display: flex;flex-direction: column;align-items: center;background-color: white;padding-right: 0.2em;padding-left: 0.2em;position: relative;}#sk-container-id-1 div.sk-item {position: relative;z-index: 1;}#sk-container-id-1 div.sk-parallel {display: flex;align-items: stretch;justify-content: center;background-color: white;position: relative;}#sk-container-id-1 div.sk-item::before, #sk-container-id-1 div.sk-parallel-item::before {content: \"\";position: absolute;border-left: 1px solid gray;box-sizing: border-box;top: 0;bottom: 0;left: 50%;z-index: -1;}#sk-container-id-1 div.sk-parallel-item {display: flex;flex-direction: column;z-index: 1;position: relative;background-color: white;}#sk-container-id-1 div.sk-parallel-item:first-child::after {align-self: flex-end;width: 50%;}#sk-container-id-1 div.sk-parallel-item:last-child::after {align-self: flex-start;width: 50%;}#sk-container-id-1 div.sk-parallel-item:only-child::after {width: 0;}#sk-container-id-1 div.sk-dashed-wrapped {border: 1px dashed gray;margin: 0 0.4em 0.5em 0.4em;box-sizing: border-box;padding-bottom: 0.4em;background-color: white;}#sk-container-id-1 div.sk-label label {font-family: monospace;font-weight: bold;display: inline-block;line-height: 1.2em;}#sk-container-id-1 div.sk-label-container {text-align: center;}#sk-container-id-1 div.sk-container {/* jupyter's `normalize.less` sets `[hidden] { display: none; }` but bootstrap.min.css set `[hidden] { display: none !important; }` so we also need the `!important` here to be able to override the default hidden behavior on the sphinx rendered scikit-learn.org. See: https://github.com/scikit-learn/scikit-learn/issues/21755 */display: inline-block !important;position: relative;}#sk-container-id-1 div.sk-text-repr-fallback {display: none;}</style><div id=\"sk-container-id-1\" class=\"sk-top-container\"><div class=\"sk-text-repr-fallback\"><pre>RandomForestClassifier()</pre><b>In a Jupyter environment, please rerun this cell to show the HTML representation or trust the notebook. <br />On GitHub, the HTML representation is unable to render, please try loading this page with nbviewer.org.</b></div><div class=\"sk-container\" hidden><div class=\"sk-item\"><div class=\"sk-estimator sk-toggleable\"><input class=\"sk-toggleable__control sk-hidden--visually\" id=\"sk-estimator-id-1\" type=\"checkbox\" checked><label for=\"sk-estimator-id-1\" class=\"sk-toggleable__label sk-toggleable__label-arrow\">RandomForestClassifier</label><div class=\"sk-toggleable__content\"><pre>RandomForestClassifier()</pre></div></div></div></div></div>"
            ]
          },
          "metadata": {},
          "execution_count": 29
        }
      ]
    },
    {
      "cell_type": "markdown",
      "source": [
        "# Predict Test Data"
      ],
      "metadata": {
        "id": "_YEUKzaeqEX6"
      }
    },
    {
      "cell_type": "code",
      "source": [
        "y_pred = rf.predict(x_test)"
      ],
      "metadata": {
        "id": "wZyVmRBPqLyx"
      },
      "execution_count": 30,
      "outputs": []
    },
    {
      "cell_type": "code",
      "source": [
        "y_pred"
      ],
      "metadata": {
        "colab": {
          "base_uri": "https://localhost:8080/"
        },
        "id": "1ZYt8k3AqS8G",
        "outputId": "81619755-0228-4a3f-8544-1fd8e1823ae7"
      },
      "execution_count": 31,
      "outputs": [
        {
          "output_type": "execute_result",
          "data": {
            "text/plain": [
              "array([1, 2, 2, 4, 7, 6, 7, 8, 9, 4, 6, 9, 1, 1, 4, 3, 5, 3, 6, 3, 8, 4,\n",
              "       4, 7, 1, 7, 4, 0, 5, 9, 4, 8, 6, 9, 3, 0, 2, 4, 1, 0, 3, 1, 9, 6,\n",
              "       6, 1, 0, 4, 8, 4, 6, 4, 4, 7, 4, 8, 1, 8, 5, 5, 3, 3, 4, 8, 3, 7,\n",
              "       9, 2, 1, 3, 9, 6, 6, 8, 6, 6, 9, 8, 7, 1, 4, 2, 1, 2, 5, 9, 7, 5,\n",
              "       7, 6, 7, 9, 1, 8, 9, 1, 3, 0, 9, 7, 7, 7, 6, 0, 4, 6, 8, 8, 7, 4,\n",
              "       0, 3, 3, 3, 3, 1, 5, 2, 5, 5, 0, 0, 5, 7, 2, 2, 9, 5, 6, 0, 6, 8,\n",
              "       5, 6, 4, 2, 4, 9, 2, 0, 1, 8, 3, 7, 7, 7, 9, 8, 2, 3, 9, 4, 7, 7,\n",
              "       2, 3, 9, 5, 3, 0, 5, 2, 3, 6, 5, 9, 0, 5, 7, 4, 4, 5, 7, 5, 5, 0,\n",
              "       4, 3, 1, 6, 3, 4, 1, 3, 6, 7, 4, 5, 5, 6, 9, 2, 0, 3, 2, 7, 6, 0,\n",
              "       1, 4, 3, 5, 1, 4, 2, 8, 5, 6, 8, 8, 1, 2, 0, 1, 1, 0, 4, 4, 7, 8,\n",
              "       7, 1, 2, 1, 3, 3, 5, 1, 5, 7, 2, 6, 4, 8, 2, 9, 7, 3, 4, 3, 6, 6,\n",
              "       9, 2, 9, 2, 1, 6, 0, 2, 0, 7, 5, 0, 3, 7, 0, 3, 7, 7, 5, 6, 1, 3,\n",
              "       4, 8, 8, 5, 9, 1, 5, 0, 5, 0, 3, 2, 4, 8, 0, 2, 4, 1, 0, 9, 8, 5,\n",
              "       4, 7, 9, 6, 6, 7, 5, 5, 2, 6, 0, 4, 1, 6, 9, 2, 6, 8, 4, 6, 1, 9,\n",
              "       0, 8, 9, 2, 0, 9, 9, 0, 4, 2, 8, 5, 7, 1, 2, 4, 1, 8, 5, 7, 1, 2,\n",
              "       4, 2, 0, 9, 9, 4, 8, 9, 5, 8, 7, 2, 6, 8, 2, 2, 1, 4, 8, 8, 6, 6,\n",
              "       9, 0, 5, 7, 6, 2, 1, 1, 5, 0, 9, 4, 3, 8, 5, 8, 1, 3, 1, 8, 3, 7,\n",
              "       0, 0, 5, 3, 8, 5, 1, 6, 5, 2, 2, 7, 9, 1, 4, 2, 6, 2, 4, 0, 5, 0,\n",
              "       8, 4, 2, 0, 0, 7, 0, 2, 9, 8, 6, 8, 8, 8, 7, 2, 0, 6, 1, 7, 9, 7,\n",
              "       5, 7, 8, 3, 6, 7, 0, 2, 4, 0, 0, 4, 1, 4, 8, 3, 6, 2, 4, 6, 7, 3,\n",
              "       5, 8, 6, 3, 3, 6, 5, 6, 1, 5, 4, 5, 5, 0, 4, 9, 4, 2, 7, 1, 6, 6,\n",
              "       7, 0, 3, 7, 8, 6, 5, 4, 0, 8, 6, 7, 4, 8, 0, 0, 5, 7, 7, 3, 4, 2,\n",
              "       9, 9, 1, 7, 5, 3, 0, 3, 1, 9, 0, 4, 3, 2, 4, 3, 0, 1, 3, 8, 4, 9,\n",
              "       9, 8, 6, 6, 3, 5, 0, 1, 1, 1, 6, 7, 9, 9, 0, 9, 1, 6, 5, 0, 1, 8,\n",
              "       7, 8, 2, 8, 3, 4, 6, 8, 8, 2, 3, 8])"
            ]
          },
          "metadata": {},
          "execution_count": 31
        }
      ]
    },
    {
      "cell_type": "markdown",
      "source": [
        "# Model Accuracy"
      ],
      "metadata": {
        "id": "meJpFAncqicJ"
      }
    },
    {
      "cell_type": "code",
      "source": [
        "from sklearn.metrics import confusion_matrix, classification_report"
      ],
      "metadata": {
        "id": "LXLU7ABkqoDq"
      },
      "execution_count": 32,
      "outputs": []
    },
    {
      "cell_type": "code",
      "source": [
        "confusion_matrix(y_test, y_pred)"
      ],
      "metadata": {
        "colab": {
          "base_uri": "https://localhost:8080/"
        },
        "id": "HoYLeIQ4q0iV",
        "outputId": "8ec5a3c0-3f4a-49a4-e886-f6125469cb5c"
      },
      "execution_count": 33,
      "outputs": [
        {
          "output_type": "execute_result",
          "data": {
            "text/plain": [
              "array([[55,  0,  0,  0,  0,  0,  0,  0,  0,  0],\n",
              "       [ 0, 52,  0,  0,  0,  0,  0,  0,  0,  0],\n",
              "       [ 0,  0, 50,  0,  0,  0,  0,  0,  0,  0],\n",
              "       [ 0,  0,  0, 50,  0,  0,  0,  0,  1,  0],\n",
              "       [ 0,  0,  0,  0, 58,  0,  0,  0,  0,  0],\n",
              "       [ 0,  0,  0,  0,  0, 52,  0,  0,  0,  1],\n",
              "       [ 0,  0,  0,  0,  1,  0, 57,  0,  0,  0],\n",
              "       [ 0,  0,  0,  0,  1,  0,  0, 55,  0,  0],\n",
              "       [ 0,  1,  1,  1,  0,  0,  0,  0, 55,  0],\n",
              "       [ 0,  0,  0,  0,  0,  2,  0,  1,  0, 46]])"
            ]
          },
          "metadata": {},
          "execution_count": 33
        }
      ]
    },
    {
      "cell_type": "code",
      "source": [
        "print(classification_report(y_test, y_pred))"
      ],
      "metadata": {
        "colab": {
          "base_uri": "https://localhost:8080/"
        },
        "id": "bVHeQKr7q5P-",
        "outputId": "65c61ec1-443c-44a9-c2e9-a6d4c7d97aa0"
      },
      "execution_count": 34,
      "outputs": [
        {
          "output_type": "stream",
          "name": "stdout",
          "text": [
            "              precision    recall  f1-score   support\n",
            "\n",
            "           0       1.00      1.00      1.00        55\n",
            "           1       0.98      1.00      0.99        52\n",
            "           2       0.98      1.00      0.99        50\n",
            "           3       0.98      0.98      0.98        51\n",
            "           4       0.97      1.00      0.98        58\n",
            "           5       0.96      0.98      0.97        53\n",
            "           6       1.00      0.98      0.99        58\n",
            "           7       0.98      0.98      0.98        56\n",
            "           8       0.98      0.95      0.96        58\n",
            "           9       0.98      0.94      0.96        49\n",
            "\n",
            "    accuracy                           0.98       540\n",
            "   macro avg       0.98      0.98      0.98       540\n",
            "weighted avg       0.98      0.98      0.98       540\n",
            "\n"
          ]
        }
      ]
    }
  ]
}